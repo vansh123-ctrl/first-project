{
 "cells": [
  {
   "cell_type": "code",
   "execution_count": null,
   "metadata": {},
   "outputs": [],
   "source": [
    "import pandas as pd\n",
    "import numpy as np\n",
    "\n",
    "# Create a DataFrame with missing values\n",
    "df = pd.DataFrame({\n",
    "    'A': [1, 2, np.nan, 4],\n",
    "    'B': [np.nan, 2, 3, 4],\n",
    "    'C': [1, np.nan, np.nan, 4]\n",
    "})\n",
    "\n",
    "# Fill missing values with a specific value\n",
    "df_filled = df.fillna(0)\n",
    "\n",
    "# Fill missing values using forward fill\n",
    "df_ffill = df.fillna(method='ffill')\n",
    "\n",
    "# Fill missing values using backward fill\n",
    "df_bfill = df.fillna(method='bfill')\n",
    "\n",
    "# Drop rows with any missing values\n",
    "df_dropped = df.dropna()\n",
    "\n",
    "# Interpolate missing values\n",
    "df_interpolated = df.interpolate()\n"
   ]
  },
  {
   "cell_type": "code",
   "execution_count": null,
   "metadata": {},
   "outputs": [],
   "source": [
    "# Create a DataFrame\n",
    "data = {\n",
    "    'Category': ['A', 'A', 'B', 'B', 'C', 'C'],\n",
    "    'Values': [1, 2, 3, 4, 5, 6]\n",
    "}\n",
    "df = pd.DataFrame(data)\n",
    "\n",
    "# Group by 'Category' and calculate the sum\n",
    "grouped_sum = df.groupby('Category').sum()\n",
    "\n",
    "# Group by 'Category' and calculate multiple aggregations\n",
    "grouped_agg = df.groupby('Category').agg({\n",
    "    'Values': ['sum', 'mean', 'max']\n",
    "})\n",
    "\n",
    "# Group by 'Category' and apply a custom aggregation function\n",
    "grouped_custom = df.groupby('Category').agg(lambda x: x.sum() / 2)\n"
   ]
  },
  {
   "cell_type": "code",
   "execution_count": null,
   "metadata": {},
   "outputs": [],
   "source": [
    "# Create a DataFrame\n",
    "data = {\n",
    "    'A': ['foo', 'foo', 'foo', 'bar', 'bar', 'bar'],\n",
    "    'B': ['one', 'one', 'two', 'two', 'one', 'one'],\n",
    "    'C': ['small', 'large', 'large', 'small', 'small', 'large'],\n",
    "    'D': [1, 2, 2, 3, 3, 4]\n",
    "}\n",
    "df = pd.DataFrame(data)\n",
    "\n",
    "# Create a pivot table\n",
    "pivot = df.pivot_table(values='D', index=['A', 'B'], columns='C', aggfunc=np.sum)\n"
   ]
  },
  {
   "cell_type": "code",
   "execution_count": null,
   "metadata": {},
   "outputs": [],
   "source": [
    "# Create two DataFrames\n",
    "df1 = pd.DataFrame({'key': ['A', 'B', 'C', 'D'], 'value': [1, 2, 3, 4]})\n",
    "df2 = pd.DataFrame({'key': ['B', 'D', 'E'], 'value': [5, 6, 7]})\n",
    "\n",
    "# Merge DataFrames on 'key'\n",
    "merged_inner = pd.merge(df1, df2, on='key', how='inner')  # Inner join\n",
    "merged_left = pd.merge(df1, df2, on='key', how='left')    # Left join\n",
    "merged_right = pd.merge(df1, df2, on='key', how='right')  # Right join\n",
    "merged_outer = pd.merge(df1, df2, on='key', how='outer')  # Outer join\n"
   ]
  },
  {
   "cell_type": "code",
   "execution_count": null,
   "metadata": {},
   "outputs": [],
   "source": [
    "# Create a MultiIndex DataFrame\n",
    "arrays = [\n",
    "    ['bar', 'bar', 'baz', 'baz', 'foo', 'foo'],\n",
    "    ['one', 'two', 'one', 'two', 'one', 'two']\n",
    "]\n",
    "index = pd.MultiIndex.from_arrays(arrays, names=('first', 'second'))\n",
    "df = pd.DataFrame({'A': range(6), 'B': range(6, 12)}, index=index)\n",
    "\n",
    "# Accessing data in MultiIndex DataFrame\n",
    "df.loc['bar']\n",
    "df.loc['baz', 'one']\n",
    "df.xs('one', level='second')\n"
   ]
  },
  {
   "cell_type": "code",
   "execution_count": null,
   "metadata": {},
   "outputs": [],
   "source": [
    "# Create a time series DataFrame\n",
    "dates = pd.date_range('20210101', periods=6)\n",
    "df = pd.DataFrame(np.random.randn(6, 4), index=dates, columns=list('ABCD'))\n",
    "\n",
    "# Resample the data to a different frequency\n",
    "df_resampled = df.resample('M').mean()\n",
    "\n",
    "# Rolling window calculations\n",
    "df_rolling = df.rolling(window=3).mean()\n",
    "\n",
    "# Shifting data\n",
    "df_shifted = df.shift(1)\n"
   ]
  }
 ],
 "metadata": {
  "language_info": {
   "name": "python"
  }
 },
 "nbformat": 4,
 "nbformat_minor": 2
}
