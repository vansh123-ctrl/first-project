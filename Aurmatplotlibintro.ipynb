{
 "cells": [
  {
   "cell_type": "code",
   "execution_count": null,
   "metadata": {},
   "outputs": [],
   "source": [
    "import matplotlib.pyplot as plt\n",
    "import numpy as np\n",
    "\n",
    "# Generate some data\n",
    "x = np.linspace(0, 10, 100)\n",
    "y = np.sin(x)\n",
    "\n",
    "# Create a basic plot\n",
    "plt.plot(x, y)\n",
    "plt.title('Basic Plot')\n",
    "plt.xlabel('x-axis')\n",
    "plt.ylabel('y-axis')\n",
    "plt.show()\n"
   ]
  },
  {
   "cell_type": "code",
   "execution_count": null,
   "metadata": {},
   "outputs": [],
   "source": [
    "# Create a customized plot\n",
    "plt.plot(x, y, label='sin(x)', color='r', linestyle='--')\n",
    "plt.title('Customized Plot')\n",
    "plt.xlabel('x-axis')\n",
    "plt.ylabel('y-axis')\n",
    "plt.legend()\n",
    "plt.grid(True)\n",
    "plt.show()\n"
   ]
  },
  {
   "cell_type": "code",
   "execution_count": null,
   "metadata": {},
   "outputs": [],
   "source": [
    "# Create subplots\n",
    "fig, axs = plt.subplots(2, 2)\n",
    "\n",
    "# First subplot\n",
    "axs[0, 0].plot(x, y, 'r')\n",
    "axs[0, 0].set_title('Red plot')\n",
    "\n",
    "# Second subplot\n",
    "axs[0, 1].plot(x, np.cos(x), 'g')\n",
    "axs[0, 1].set_title('Green plot')\n",
    "\n",
    "# Third subplot\n",
    "axs[1, 0].plot(x, -y, 'b')\n",
    "axs[1, 0].set_title('Blue plot')\n",
    "\n",
    "# Fourth subplot\n",
    "axs[1, 1].plot(x, -np.cos(x), 'k')\n",
    "axs[1, 1].set_title('Black plot')\n",
    "\n",
    "plt.tight_layout()\n",
    "plt.show()\n"
   ]
  },
  {
   "cell_type": "code",
   "execution_count": null,
   "metadata": {},
   "outputs": [],
   "source": [
    "# Data\n",
    "categories = ['A', 'B', 'C', 'D']\n",
    "values = [4, 7, 1, 8]\n",
    "\n",
    "# Create a bar chart\n",
    "plt.bar(categories, values, color=['red', 'blue', 'green', 'purple'])\n",
    "plt.title('Bar Chart')\n",
    "plt.xlabel('Categories')\n",
    "plt.ylabel('Values')\n",
    "plt.show()\n"
   ]
  },
  {
   "cell_type": "code",
   "execution_count": null,
   "metadata": {},
   "outputs": [],
   "source": [
    "# Generate random data\n",
    "np.random.seed(0)\n",
    "x = np.random.rand(50)\n",
    "y = np.random.rand(50)\n",
    "sizes = 1000 * np.random.rand(50)\n",
    "colors = np.random.rand(50)\n",
    "\n",
    "# Create a scatter plot\n",
    "plt.scatter(x, y, s=sizes, c=colors, alpha=0.5, cmap='viridis')\n",
    "plt.colorbar()  # Show color scale\n",
    "plt.title('Scatter Plot')\n",
    "plt.xlabel('x-axis')\n",
    "plt.ylabel('y-axis')\n",
    "plt.show()\n"
   ]
  },
  {
   "cell_type": "code",
   "execution_count": null,
   "metadata": {},
   "outputs": [],
   "source": [
    "# Generate random data\n",
    "data = np.random.randn(1000)\n",
    "\n",
    "# Create a histogram\n",
    "plt.hist(data, bins=30, alpha=0.7, color='blue')\n",
    "plt.title('Histogram')\n",
    "plt.xlabel('Value')\n",
    "plt.ylabel('Frequency')\n",
    "plt.show()\n"
   ]
  },
  {
   "cell_type": "code",
   "execution_count": null,
   "metadata": {},
   "outputs": [],
   "source": [
    "# Data\n",
    "labels = ['A', 'B', 'C', 'D']\n",
    "sizes = [15, 30, 45, 10]\n",
    "colors = ['gold', 'yellowgreen', 'lightcoral', 'lightskyblue']\n",
    "explode = (0.1, 0, 0, 0)  # explode 1st slice\n",
    "\n",
    "# Create a pie chart\n",
    "plt.pie(sizes, explode=explode, labels=labels, colors=colors,\n",
    "        autopct='%1.1f%%', shadow=True, startangle=140)\n",
    "plt.axis('equal')  # Equal aspect ratio ensures that pie is drawn as a circle.\n",
    "plt.title('Pie Chart')\n",
    "plt.show()\n"
   ]
  },
  {
   "cell_type": "code",
   "execution_count": null,
   "metadata": {},
   "outputs": [],
   "source": [
    "# Generate some data\n",
    "x = np.linspace(0, 10, 100)\n",
    "y = np.sin(x)\n",
    "\n",
    "# Create a plot\n",
    "plt.plot(x, y)\n",
    "plt.title('Plot to Save')\n",
    "\n",
    "# Save the plot as a file\n",
    "plt.savefig('plot.png')\n",
    "plt.savefig('plot.pdf')\n",
    "plt.show()\n"
   ]
  }
 ],
 "metadata": {
  "language_info": {
   "name": "python"
  }
 },
 "nbformat": 4,
 "nbformat_minor": 2
}
